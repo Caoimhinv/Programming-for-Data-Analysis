{
 "cells": [
  {
   "cell_type": "markdown",
   "id": "6623e8f0-7eff-44bc-859d-cea9221cc5b3",
   "metadata": {
    "tags": []
   },
   "source": [
    "# The numpy.random package "
   ]
  },
  {
   "cell_type": "code",
   "execution_count": 1,
   "id": "aa287c31-1bff-48a0-8212-4bd2ffaa9a34",
   "metadata": {},
   "outputs": [],
   "source": [
    "import numpy as np"
   ]
  },
  {
   "cell_type": "code",
   "execution_count": 4,
   "id": "acc681c6-6023-4a21-8b29-15c4ded876ca",
   "metadata": {},
   "outputs": [
    {
     "data": {
      "text/plain": [
       "Generator(PCG64) at 0x7FC5D5BDC820"
      ]
     },
     "execution_count": 4,
     "metadata": {},
     "output_type": "execute_result"
    }
   ],
   "source": [
    "# random number generator\n",
    "rng = np.random.default_rng()\n",
    "rng"
   ]
  },
  {
   "cell_type": "code",
   "execution_count": 5,
   "id": "b9f37ca5-19c2-4ec9-a204-d7fa94eb66bf",
   "metadata": {},
   "outputs": [
    {
     "data": {
      "text/plain": [
       "array([0, 0, 1, 0, 0, 0, 0, 1, 0, 0])"
      ]
     },
     "execution_count": 5,
     "metadata": {},
     "output_type": "execute_result"
    }
   ],
   "source": [
    "# 2 = 0 and 1) - size = no. of numbers returned\n",
    "# first number exclusive\n",
    "rng.integers(2, size=10)"
   ]
  },
  {
   "cell_type": "code",
   "execution_count": 8,
   "id": "746d7824-93f9-44ae-8980-89d6f755e1ed",
   "metadata": {},
   "outputs": [
    {
     "data": {
      "text/plain": [
       "array([[1, 2, 0, 1],\n",
       "       [4, 4, 2, 0]])"
      ]
     },
     "execution_count": 8,
     "metadata": {},
     "output_type": "execute_result"
    }
   ],
   "source": [
    "# array -  rows and 4 columns\n",
    "rng.integers(5, size=(2,4))"
   ]
  },
  {
   "cell_type": "code",
   "execution_count": 11,
   "id": "b6dbbfed-0ed2-410e-a4ed-6ff208b5844f",
   "metadata": {
    "scrolled": true,
    "tags": []
   },
   "outputs": [
    {
     "data": {
      "text/plain": [
       "array([[[[3, 2],\n",
       "         [4, 4],\n",
       "         [3, 4]],\n",
       "\n",
       "        [[4, 2],\n",
       "         [2, 2],\n",
       "         [3, 2]],\n",
       "\n",
       "        [[4, 3],\n",
       "         [1, 3],\n",
       "         [4, 4]],\n",
       "\n",
       "        [[4, 0],\n",
       "         [1, 4],\n",
       "         [2, 2]]],\n",
       "\n",
       "\n",
       "       [[[3, 0],\n",
       "         [4, 4],\n",
       "         [4, 3]],\n",
       "\n",
       "        [[2, 3],\n",
       "         [4, 1],\n",
       "         [4, 2]],\n",
       "\n",
       "        [[2, 2],\n",
       "         [2, 1],\n",
       "         [1, 2]],\n",
       "\n",
       "        [[4, 4],\n",
       "         [1, 4],\n",
       "         [4, 0]]],\n",
       "\n",
       "\n",
       "       [[[0, 2],\n",
       "         [1, 4],\n",
       "         [3, 1]],\n",
       "\n",
       "        [[0, 0],\n",
       "         [1, 0],\n",
       "         [0, 1]],\n",
       "\n",
       "        [[2, 4],\n",
       "         [2, 4],\n",
       "         [0, 1]],\n",
       "\n",
       "        [[1, 3],\n",
       "         [1, 2],\n",
       "         [2, 4]]],\n",
       "\n",
       "\n",
       "       [[[2, 4],\n",
       "         [0, 1],\n",
       "         [0, 2]],\n",
       "\n",
       "        [[4, 4],\n",
       "         [3, 2],\n",
       "         [0, 4]],\n",
       "\n",
       "        [[1, 0],\n",
       "         [1, 2],\n",
       "         [1, 0]],\n",
       "\n",
       "        [[0, 3],\n",
       "         [3, 4],\n",
       "         [3, 1]]],\n",
       "\n",
       "\n",
       "       [[[2, 0],\n",
       "         [1, 2],\n",
       "         [3, 1]],\n",
       "\n",
       "        [[4, 4],\n",
       "         [0, 2],\n",
       "         [0, 2]],\n",
       "\n",
       "        [[0, 2],\n",
       "         [4, 0],\n",
       "         [0, 2]],\n",
       "\n",
       "        [[4, 4],\n",
       "         [0, 0],\n",
       "         [4, 1]]]])"
      ]
     },
     "execution_count": 11,
     "metadata": {},
     "output_type": "execute_result"
    }
   ],
   "source": [
    "rng.integers(5, size=(5,4,3,2))"
   ]
  },
  {
   "cell_type": "code",
   "execution_count": 25,
   "id": "8428efb4-fbc3-4e67-b625-09d830b86deb",
   "metadata": {},
   "outputs": [],
   "source": [
    "# practice changing the size number - the higher the more uniform\n",
    "x = rng.integers(100, size = 10000000)"
   ]
  },
  {
   "cell_type": "code",
   "execution_count": 18,
   "id": "0e380847-e408-493e-b638-e93285df4af4",
   "metadata": {},
   "outputs": [],
   "source": [
    "import matplotlib.pyplot as plt"
   ]
  },
  {
   "cell_type": "code",
   "execution_count": 26,
   "id": "53baa821-cebd-4f0c-9a2a-bb4f06285526",
   "metadata": {},
   "outputs": [
    {
     "data": {
      "text/plain": [
       "(array([ 998682.,  999818., 1000268.,  999872.,  999378.,  999806.,\n",
       "        1000550., 1000535., 1001286.,  999805.]),\n",
       " array([ 0. ,  9.9, 19.8, 29.7, 39.6, 49.5, 59.4, 69.3, 79.2, 89.1, 99. ]),\n",
       " <BarContainer object of 10 artists>)"
      ]
     },
     "execution_count": 26,
     "metadata": {},
     "output_type": "execute_result"
    },
    {
     "data": {
      "image/png": "[encoded data removed]",
      "text/plain": [
       "<Figure size 432x288 with 1 Axes>"
      ]
     },
     "metadata": {
      "needs_background": "light"
     },
     "output_type": "display_data"
    }
   ],
   "source": [
    "plt.hist(x)"
   ]
  },
  {
   "cell_type": "markdown",
   "id": "ecb18530-5252-4f59-9254-aa274fe5b294",
   "metadata": {
    "tags": []
   },
   "source": [
    "## uniform distribution"
   ]
  },
  {
   "cell_type": "code",
   "execution_count": 27,
   "id": "8937d59d-3910-4abb-9768-2e4788f7ce6c",
   "metadata": {
    "scrolled": true,
    "tags": []
   },
   "outputs": [
    {
     "data": {
      "text/plain": [
       "array([-4.56705683e-01, -3.52587251e-01, -6.18023576e-01, -9.15058056e-01,\n",
       "       -2.38170904e-01, -1.01847546e-01, -7.51604227e-01, -4.89978706e-01,\n",
       "       -4.59714338e-01, -8.17409329e-01, -4.41682220e-01, -1.39501821e-01,\n",
       "       -8.37184995e-01, -4.62388965e-01, -2.85911897e-03, -7.51417338e-01,\n",
       "       -7.81152927e-01, -4.90838119e-01, -4.84039404e-02, -2.94626438e-01,\n",
       "       -9.85223793e-01, -1.82013890e-01, -5.19348907e-01, -7.01978342e-01,\n",
       "       -1.52593337e-01, -5.31771930e-01, -3.58949838e-01, -2.19873357e-01,\n",
       "       -8.41644134e-01, -8.47147489e-01, -1.82999622e-02, -2.06550917e-01,\n",
       "       -2.03928560e-01, -9.46241572e-01, -3.47549151e-01, -8.54665116e-01,\n",
       "       -9.96085096e-01, -4.69912235e-01, -3.67972431e-01, -8.37897539e-01,\n",
       "       -7.13496773e-01, -7.57344005e-01, -6.36879702e-01, -5.44213886e-01,\n",
       "       -7.75762948e-01, -4.31475122e-01, -1.08198546e-01, -7.61204891e-01,\n",
       "       -7.31172651e-01, -9.35992049e-01, -7.82112626e-01, -6.64974494e-01,\n",
       "       -6.10361336e-01, -4.08370046e-01, -4.26833934e-01, -7.20861589e-01,\n",
       "       -6.81095749e-01, -6.01725517e-01, -9.22773053e-01, -2.55860528e-01,\n",
       "       -5.24519592e-01, -9.28423710e-01, -2.79033824e-01, -6.05331397e-01,\n",
       "       -8.77123292e-01, -9.26215547e-01, -1.02322622e-01, -8.48028715e-01,\n",
       "       -8.15801373e-02, -9.58583346e-01, -7.25317783e-01, -6.38127238e-01,\n",
       "       -9.53774164e-01, -9.54733406e-01, -2.86116531e-01, -2.74349582e-01,\n",
       "       -9.10296765e-01, -7.13402889e-01, -3.22856044e-01, -5.28376509e-01,\n",
       "       -4.32703874e-01, -7.59417884e-01, -2.58520666e-01, -2.65586869e-01,\n",
       "       -2.71547549e-01, -7.93030274e-01, -8.13226729e-02, -3.34587218e-02,\n",
       "       -9.01136245e-01, -1.31478384e-01, -4.74717247e-01, -5.51776906e-01,\n",
       "       -6.34806810e-01, -2.47502438e-01, -4.16549249e-01, -6.35753268e-01,\n",
       "       -9.69255587e-01, -4.16429632e-01, -6.25256626e-02, -6.47880048e-01,\n",
       "       -7.15021657e-03, -2.27164248e-02, -4.11155980e-01, -5.35226224e-01,\n",
       "       -8.47449212e-01, -1.35970562e-01, -6.35906237e-01, -8.00960796e-01,\n",
       "       -8.84416424e-02, -5.89207548e-01, -4.01360990e-01, -8.96207803e-01,\n",
       "       -7.14908232e-01, -4.40358196e-01, -6.73699785e-01, -6.07071902e-01,\n",
       "       -7.45842224e-01, -4.53035448e-01, -6.56384946e-01, -7.12289752e-01,\n",
       "       -2.84361677e-02, -1.33027589e-01, -4.76526504e-02, -3.26590499e-01,\n",
       "       -6.87022503e-02, -5.29004880e-01, -6.67395786e-01, -8.39960735e-01,\n",
       "       -7.40020579e-01, -6.98649423e-01, -7.01613284e-01, -8.38127171e-01,\n",
       "       -6.87525320e-01, -4.28915335e-01, -4.86962086e-01, -3.03925189e-01,\n",
       "       -4.14371017e-01, -2.79479349e-01, -8.58186221e-02, -4.47684759e-02,\n",
       "       -1.65098292e-01, -7.09309820e-01, -3.12341103e-01, -9.37873040e-01,\n",
       "       -2.44705578e-01, -1.14054719e-01, -8.72577838e-01, -8.68635575e-01,\n",
       "       -9.78184201e-01, -3.48003498e-01, -1.56026161e-01, -6.02264149e-01,\n",
       "       -7.69854510e-01, -9.84312328e-01, -5.29908587e-02, -7.82257916e-01,\n",
       "       -3.51910704e-01, -1.92878830e-01, -9.31524230e-01, -6.07968435e-01,\n",
       "       -1.91660037e-02, -1.26348188e-01, -5.13790519e-01, -5.09615724e-01,\n",
       "       -7.44310625e-01, -9.09949316e-01, -7.92904438e-01, -6.12256626e-01,\n",
       "       -1.14209500e-01, -6.28696242e-01, -2.92814681e-01, -9.86853873e-01,\n",
       "       -2.87078021e-01, -6.22693385e-01, -1.07590315e-01, -8.06362328e-01,\n",
       "       -1.46224560e-01, -5.96345506e-01, -3.70410938e-01, -9.63263103e-01,\n",
       "       -8.37495365e-02, -6.51771822e-01, -1.66687111e-01, -2.25188905e-01,\n",
       "       -3.98199512e-01, -6.63066127e-02, -3.90489700e-01, -7.14312900e-01,\n",
       "       -2.81803655e-01, -6.80773282e-01, -9.80427647e-01, -9.52439276e-01,\n",
       "       -3.66898707e-03, -5.30790602e-01, -4.67624237e-01, -5.68477951e-01,\n",
       "       -5.58640227e-01, -3.43912905e-01, -6.74476440e-01, -9.97120589e-01,\n",
       "       -6.63904367e-02, -7.93394505e-01, -3.45739168e-01, -9.10560349e-01,\n",
       "       -1.13314479e-01, -7.46619072e-01, -5.91021300e-01, -4.94166116e-01,\n",
       "       -1.59938974e-01, -6.19270739e-01, -6.41933575e-01, -5.68048375e-01,\n",
       "       -9.00557212e-01, -1.24932776e-01, -2.59019245e-01, -6.96265957e-01,\n",
       "       -9.01190021e-01, -8.56737000e-01, -3.58608570e-01, -8.46023083e-01,\n",
       "       -9.52785796e-01, -2.23659584e-01, -5.62350996e-01, -5.29862439e-01,\n",
       "       -5.22377128e-01, -8.82779003e-01, -6.24779756e-01, -2.38100310e-01,\n",
       "       -8.63258795e-01, -4.73545568e-01, -5.26170835e-01, -3.33798048e-01,\n",
       "       -8.95237921e-01, -9.39013401e-01, -2.58381893e-01, -8.26725253e-01,\n",
       "       -4.68145775e-01, -6.95363255e-01, -4.10596379e-01, -6.13563300e-01,\n",
       "       -1.04388334e-01, -2.04852257e-01, -6.07068461e-01, -5.64357136e-01,\n",
       "       -9.57680860e-01, -8.06343664e-01, -7.52948751e-01, -6.87324561e-01,\n",
       "       -2.54416611e-01, -3.72410309e-01, -3.22945790e-01, -2.90480150e-01,\n",
       "       -4.42886572e-01, -7.81569594e-01, -9.96707837e-02, -9.63102278e-01,\n",
       "       -4.92716859e-01, -3.72928810e-01, -7.50961167e-01, -8.57567976e-01,\n",
       "       -7.74682345e-02, -6.91770853e-01, -8.13355010e-01, -4.39035523e-01,\n",
       "       -6.56907893e-01, -6.28915974e-01, -2.87976627e-01, -6.37896803e-01,\n",
       "       -6.61491358e-01, -3.31420249e-01, -7.63514336e-01, -9.87684365e-01,\n",
       "       -5.07696208e-01, -9.21087996e-01, -1.30051127e-01, -7.80792995e-01,\n",
       "       -5.59044795e-01, -8.64218111e-01, -9.23592399e-01, -4.46783111e-02,\n",
       "       -8.10958390e-01, -4.38678744e-01, -1.23668893e-01, -1.97557346e-01,\n",
       "       -8.62436514e-01, -6.44004410e-01, -1.10052634e-01, -3.60553083e-01,\n",
       "       -7.16300674e-01, -3.45092303e-01, -2.95130336e-01, -8.48714323e-01,\n",
       "       -4.11147334e-01, -3.77382948e-01, -9.99076610e-01, -4.63142964e-01,\n",
       "       -9.29454235e-01, -5.18383707e-01, -6.66990661e-01, -4.72403535e-01,\n",
       "       -3.60276042e-01, -8.19817802e-01, -3.21243942e-01, -6.73660006e-01,\n",
       "       -9.35227561e-01, -4.01733315e-01, -8.86203304e-01, -1.62090484e-01,\n",
       "       -9.65667086e-01, -8.11352640e-01, -5.98982684e-01, -7.53522805e-01,\n",
       "       -9.42370625e-01, -2.46860076e-01, -7.25424773e-01, -2.70283412e-01,\n",
       "       -1.05774361e-01, -5.15370688e-01, -1.55427652e-01, -6.86541369e-01,\n",
       "       -8.03457386e-01, -6.20053879e-01, -8.77157854e-01, -4.01082992e-01,\n",
       "       -8.82746111e-01, -7.87621822e-01, -2.73992042e-01, -8.53442679e-01,\n",
       "       -2.61500256e-01, -7.70794783e-01, -5.02639597e-01, -9.78809343e-01,\n",
       "       -2.01626573e-01, -1.96326581e-01, -7.08757142e-02, -6.72124301e-01,\n",
       "       -1.07372517e-01, -7.89919605e-01, -6.50375189e-01, -5.37005329e-01,\n",
       "       -5.77993028e-01, -8.78180037e-01, -2.28102343e-01, -2.38009227e-01,\n",
       "       -5.71004932e-01, -1.11433168e-01, -3.67007759e-01, -7.69842342e-01,\n",
       "       -4.17503281e-01, -6.25627173e-01, -6.75288167e-01, -5.63297050e-01,\n",
       "       -2.44726788e-01, -5.19259410e-01, -2.14167284e-01, -3.67498412e-01,\n",
       "       -4.75745673e-01, -9.92778085e-01, -1.39931654e-01, -9.48609117e-02,\n",
       "       -7.66918467e-01, -5.65607260e-01, -9.80067564e-01, -5.12348840e-01,\n",
       "       -2.30630684e-01, -8.75467215e-01, -6.67267303e-01, -3.20864303e-01,\n",
       "       -9.17624201e-01, -5.92057185e-01, -3.17881451e-01, -2.06228847e-01,\n",
       "       -4.96403747e-01, -5.42168577e-01, -3.69018270e-01, -2.79711874e-01,\n",
       "       -2.05690224e-01, -2.60952856e-01, -7.53305477e-01, -1.68847856e-01,\n",
       "       -8.55279996e-01, -1.93490556e-02, -6.72925671e-01, -6.03055469e-01,\n",
       "       -9.04746148e-01, -9.36110744e-01, -1.63235405e-01, -5.06108744e-01,\n",
       "       -2.35796009e-01, -2.93405888e-01, -3.94481265e-01, -2.43568758e-01,\n",
       "       -9.43397808e-01, -8.39202797e-01, -6.10937963e-01, -2.14094986e-01,\n",
       "       -5.23035957e-03, -7.98701540e-01, -7.53947333e-01, -5.15719618e-01,\n",
       "       -3.63056551e-01, -1.05102604e-01, -1.22020850e-01, -9.15951509e-01,\n",
       "       -6.62120720e-01, -1.73509205e-01, -4.91370488e-01, -2.75198731e-01,\n",
       "       -4.41004158e-01, -3.49415407e-01, -2.60076017e-02, -7.87212153e-01,\n",
       "       -2.48315336e-01, -1.01293697e-01, -9.58234376e-01, -4.80548093e-01,\n",
       "       -3.40194275e-01, -6.44034951e-01, -6.94760995e-02, -6.08375041e-01,\n",
       "       -3.07004266e-01, -7.76001648e-01, -3.65134616e-01, -9.54438088e-01,\n",
       "       -2.69567747e-01, -6.29914209e-01, -7.20778134e-01, -4.56920894e-01,\n",
       "       -6.23179976e-01, -4.75065733e-02, -6.61002799e-01, -2.29947361e-02,\n",
       "       -1.55063625e-02, -5.30460670e-01, -5.62104878e-01, -6.09531192e-01,\n",
       "       -7.50107793e-01, -3.78538076e-01, -7.56233530e-01, -4.77406173e-01,\n",
       "       -6.80434327e-02, -3.14842445e-01, -2.11347382e-01, -1.66632308e-01,\n",
       "       -1.18869958e-01, -2.32785658e-01, -7.82318883e-01, -5.24075625e-01,\n",
       "       -4.36406964e-01, -3.32749442e-01, -8.67279220e-01, -6.62974479e-01,\n",
       "       -3.39866207e-01, -3.46940924e-01, -5.55907830e-01, -3.55560322e-01,\n",
       "       -8.80510621e-01, -7.71288478e-01, -7.53395105e-01, -3.98766479e-01,\n",
       "       -7.39579144e-01, -4.46249112e-01, -9.59166777e-01, -2.38868454e-01,\n",
       "       -3.55575188e-01, -9.10975936e-01, -1.15907434e-01, -4.82658041e-01,\n",
       "       -1.56490912e-01, -4.13323866e-01, -1.57854501e-01, -8.32323929e-01,\n",
       "       -1.33519347e-01, -1.84523764e-01, -9.60491853e-01, -3.10798336e-01,\n",
       "       -7.16562091e-01, -3.24944631e-01, -2.77741444e-01, -9.58649376e-01,\n",
       "       -2.30216978e-01, -6.23118598e-01, -3.67221427e-01, -9.57851765e-01,\n",
       "       -9.14553625e-01, -6.50143155e-01, -2.11721781e-01, -7.99564138e-01,\n",
       "       -5.07191511e-01, -8.52492551e-01, -8.66964171e-01, -5.76062458e-01,\n",
       "       -8.03910460e-01, -9.60314307e-01, -4.04211250e-01, -4.68334732e-01,\n",
       "       -2.78956090e-01, -4.36623244e-01, -3.03647608e-01, -2.52358276e-01,\n",
       "       -7.66092434e-01, -8.56394103e-02, -5.21999533e-01, -6.28651101e-01,\n",
       "       -9.46722749e-01, -6.07695193e-01, -6.12792662e-01, -4.90615399e-01,\n",
       "       -6.44723233e-01, -5.96410807e-01, -8.13638618e-01, -9.49356457e-02,\n",
       "       -6.15937621e-01, -8.25202761e-01, -3.00342234e-02, -7.86822039e-01,\n",
       "       -2.69209429e-01, -7.22571651e-02, -7.09659034e-01, -9.27829066e-01,\n",
       "       -4.26897701e-01, -9.95784220e-01, -1.87130721e-01, -3.33897439e-01,\n",
       "       -3.09269181e-02, -5.71922668e-01, -4.67229967e-02, -9.11463066e-01,\n",
       "       -8.28014026e-01, -5.89182306e-01, -3.67089250e-01, -5.58702790e-01,\n",
       "       -4.01665841e-01, -9.74132870e-01, -8.18037282e-01, -7.92161267e-01,\n",
       "       -6.80631654e-01, -6.86177491e-01, -7.56401256e-01, -5.56509532e-01,\n",
       "       -5.02257153e-02, -3.82329312e-01, -7.34400175e-01, -2.46706165e-01,\n",
       "       -7.30972027e-01, -1.91648005e-02, -6.13114890e-01, -7.82019745e-02,\n",
       "       -5.21842079e-01, -2.43082506e-01, -6.05647288e-01, -8.64977771e-01,\n",
       "       -5.73402899e-01, -5.22974924e-01, -9.53086561e-01, -4.90951518e-01,\n",
       "       -8.72344081e-01, -4.78976707e-01, -5.68277526e-01, -8.48179329e-01,\n",
       "       -1.48028803e-01, -6.69506427e-01, -6.53703742e-01, -7.51668893e-01,\n",
       "       -1.23069794e-01, -4.56731166e-01, -9.97421906e-01, -8.25512745e-01,\n",
       "       -4.06396186e-01, -8.52861933e-01, -2.16181830e-01, -9.60376907e-01,\n",
       "       -8.52014758e-01, -1.44016626e-02, -1.75111492e-02, -7.60111849e-01,\n",
       "       -8.11471921e-01, -7.43400463e-01, -3.05360051e-01, -3.84219185e-01,\n",
       "       -4.60574676e-01, -6.31805257e-01, -6.44668872e-01, -8.33770901e-01,\n",
       "       -8.41168682e-01, -2.78044589e-01, -8.41724779e-01, -2.51488201e-01,\n",
       "       -2.06246217e-02, -1.85527599e-01, -5.01115987e-01, -6.72675286e-01,\n",
       "       -2.06880701e-01, -5.44987686e-01, -5.80630348e-01, -1.31373745e-01,\n",
       "       -4.35688525e-01, -9.92214529e-01, -2.80901111e-01, -2.86646035e-01,\n",
       "       -2.27323429e-01, -1.28099832e-01, -3.42058640e-01, -1.22880484e-01,\n",
       "       -6.17135829e-01, -9.26260853e-01, -3.94264048e-01, -4.98285978e-01,\n",
       "       -4.19036658e-01, -3.86228048e-04, -3.39244476e-01, -3.30679556e-01,\n",
       "       -1.41469389e-01, -9.42166110e-01, -9.85987896e-01, -5.57271127e-01,\n",
       "       -6.07223589e-01, -9.08129990e-01, -5.32064050e-01, -4.51632787e-01,\n",
       "       -5.98610161e-01, -3.16617019e-01, -6.65750841e-01, -8.88257318e-02,\n",
       "       -4.37823454e-01, -7.02978757e-01, -9.69041043e-01, -5.60020430e-01,\n",
       "       -2.00375180e-01, -5.36194111e-01, -3.33137575e-01, -5.25236203e-01,\n",
       "       -1.55481219e-01, -4.64677594e-01, -6.05007061e-01, -2.67671719e-02,\n",
       "       -4.97919624e-01, -2.49096263e-01, -6.19555242e-01, -2.24709334e-01,\n",
       "       -1.78377740e-01, -5.58639085e-02, -5.27920138e-01, -8.74108148e-01,\n",
       "       -4.36698123e-01, -4.84571086e-01, -1.96518295e-01, -1.10229269e-01,\n",
       "       -1.39505381e-02, -4.87030967e-01, -2.32501259e-01, -1.73087342e-01,\n",
       "       -6.97625162e-01, -4.24568040e-01, -5.17462930e-01, -4.56353781e-01,\n",
       "       -5.79419350e-01, -7.06900994e-01, -7.79596446e-01, -9.62002640e-02,\n",
       "       -8.04945441e-01, -6.29042874e-01, -3.27708807e-01, -8.32727180e-01,\n",
       "       -4.77708878e-01, -1.71594879e-03, -1.12008717e-01, -9.23492888e-01,\n",
       "       -1.16252187e-01, -6.70393658e-01, -1.90980906e-01, -4.21092572e-01,\n",
       "       -5.47153582e-01, -7.80338639e-01, -2.04153100e-01, -6.61765894e-01,\n",
       "       -1.43208159e-01, -2.99017900e-01, -7.95674520e-01, -1.19519722e-01,\n",
       "       -5.03772102e-01, -8.09772210e-01, -3.54853679e-01, -6.16918130e-02,\n",
       "       -1.05571009e-01, -5.11654050e-02, -4.58683040e-01, -9.29453647e-02,\n",
       "       -5.55751614e-01, -5.67744397e-01, -2.91390196e-01, -6.05360115e-01,\n",
       "       -5.44336766e-01, -9.70848632e-01, -2.81282323e-01, -8.20078959e-01,\n",
       "       -1.93244785e-01, -3.14650409e-01, -3.57270357e-01, -7.77043239e-01,\n",
       "       -8.15057615e-01, -2.69447236e-01, -5.90196491e-01, -2.15091105e-01,\n",
       "       -3.16813235e-01, -1.64389517e-03, -5.93034613e-01, -1.33896200e-01,\n",
       "       -9.32888376e-01, -5.59330904e-01, -3.81967688e-01, -7.00187642e-01,\n",
       "       -8.12569465e-01, -9.20603703e-01, -7.63024135e-01, -2.62676053e-01,\n",
       "       -4.54615345e-01, -9.65408680e-01, -6.96675397e-01, -7.59546727e-01,\n",
       "       -7.18751787e-01, -2.93265456e-01, -4.90988544e-01, -8.30932712e-01,\n",
       "       -8.74808616e-01, -3.89491162e-02, -8.81579265e-01, -1.09762718e-01,\n",
       "       -9.76520994e-02, -3.47471613e-01, -9.68575589e-02, -8.46016268e-01,\n",
       "       -4.07770474e-01, -9.39070032e-01, -7.27448862e-01, -4.91536551e-01,\n",
       "       -5.70123013e-01, -4.66535985e-01, -3.09021134e-01, -9.46209748e-01,\n",
       "       -2.05108374e-01, -6.99699203e-01, -5.93794591e-01, -9.63666688e-01,\n",
       "       -5.86142945e-02, -6.79323510e-01, -9.75380489e-01, -2.90360747e-01,\n",
       "       -7.33657078e-01, -6.56311484e-01, -8.06056254e-01, -7.35644325e-01,\n",
       "       -8.25375860e-01, -8.55796045e-01, -4.87039546e-01, -2.85386794e-01,\n",
       "       -6.24120497e-01, -1.17062083e-01, -3.40483279e-01, -7.59618390e-01,\n",
       "       -2.94726633e-01, -1.78309114e-01, -4.53802126e-01, -9.02526227e-01,\n",
       "       -1.64773187e-01, -6.85280155e-01, -9.47933333e-01, -8.92117178e-01,\n",
       "       -1.48915244e-01, -5.09792664e-01, -6.75686642e-01, -7.02024063e-01,\n",
       "       -4.67116808e-01, -6.67349940e-01, -4.86955199e-01, -3.88317075e-01,\n",
       "       -4.76877917e-01, -9.37532664e-01, -9.28704005e-01, -3.02798505e-01,\n",
       "       -7.24982271e-01, -1.30698437e-01, -6.09360700e-01, -8.85082733e-01,\n",
       "       -1.46985779e-01, -8.70444543e-01, -3.98080171e-01, -2.84176900e-01,\n",
       "       -6.02770455e-01, -1.74175290e-01, -2.20797465e-01, -8.77448406e-01,\n",
       "       -4.97343212e-01, -3.08611891e-01, -6.69673795e-01, -2.13064057e-01,\n",
       "       -2.38811868e-01, -5.05866403e-01, -8.58700097e-01, -3.74776185e-01,\n",
       "       -2.05015295e-01, -8.71086343e-01, -5.65387787e-01, -3.92522193e-02,\n",
       "       -9.75287345e-01, -3.10763220e-01, -7.09912379e-01, -8.65035106e-01,\n",
       "       -4.44953039e-01, -8.79621793e-01, -7.16730847e-01, -1.39825425e-01,\n",
       "       -2.82528339e-01, -8.12860858e-01, -4.31559284e-01, -7.70994913e-01,\n",
       "       -2.96358449e-02, -1.83474137e-01, -4.47128530e-01, -4.90541233e-01,\n",
       "       -4.22285969e-01, -2.60358909e-01, -9.02011079e-01, -3.64037172e-01,\n",
       "       -4.20866263e-01, -4.01253030e-01, -2.58267736e-01, -9.64657052e-01,\n",
       "       -4.23730466e-01, -3.03510594e-01, -8.15966556e-02, -2.48029814e-01,\n",
       "       -4.30078283e-02, -7.24517498e-02, -3.43295860e-01, -9.50441264e-01,\n",
       "       -3.76153586e-01, -6.71149720e-01, -1.36460416e-01, -4.97255573e-01,\n",
       "       -4.63413361e-01, -9.14995754e-01, -8.34706055e-01, -6.53400552e-01,\n",
       "       -5.22546881e-01, -1.48876700e-01, -5.96927523e-01, -9.62441096e-02,\n",
       "       -7.53487407e-02, -1.49652208e-01, -2.19828883e-01, -5.08893886e-01,\n",
       "       -6.28824136e-01, -2.29691710e-01, -3.59570893e-01, -1.98454287e-01,\n",
       "       -5.04645462e-01, -3.05796289e-01, -5.05403186e-03, -8.77553523e-01,\n",
       "       -3.57622207e-01, -9.88306699e-01, -3.47439918e-01, -2.09793612e-01,\n",
       "       -1.94177715e-01, -8.10682303e-01, -6.92583869e-01, -1.56466566e-01,\n",
       "       -4.24395826e-02, -1.38588310e-01, -7.30202994e-01, -8.25549935e-02,\n",
       "       -8.25741032e-01, -9.59391632e-01, -9.35271508e-02, -6.22723114e-01,\n",
       "       -4.44871235e-01, -4.76051906e-01, -6.27926337e-02, -9.81480523e-01,\n",
       "       -3.58011009e-02, -6.93934497e-01, -4.21365654e-01, -5.75422169e-01,\n",
       "       -6.87723830e-02, -7.63357117e-02, -8.09325431e-01, -5.51121458e-01,\n",
       "       -7.40584975e-01, -4.25479592e-01, -8.26312667e-01, -2.68949373e-01,\n",
       "       -4.20751822e-01, -3.03809375e-02, -1.25872359e-01, -6.23969528e-01,\n",
       "       -5.75630450e-02, -3.45003959e-01, -4.02913905e-01, -2.68961915e-01,\n",
       "       -5.40747652e-01, -2.56568644e-01, -1.91724308e-02, -8.44771328e-01,\n",
       "       -9.68642431e-01, -3.89571547e-01, -6.00571906e-01, -6.53425911e-01,\n",
       "       -2.01144026e-01, -3.28407372e-01, -3.47454013e-01, -3.67829384e-01,\n",
       "       -2.91202238e-01, -4.18176367e-01, -8.58098131e-01, -1.22593379e-01,\n",
       "       -6.20686807e-01, -6.09280497e-01, -5.57890243e-01, -6.27623647e-01,\n",
       "       -1.68402464e-01, -1.10907941e-02, -2.35590730e-01, -1.57212195e-01,\n",
       "       -8.97359140e-01, -2.67484780e-01, -2.74943018e-01, -7.57919057e-01,\n",
       "       -3.27528980e-01, -6.99046265e-01, -8.90012353e-01, -6.13998970e-01,\n",
       "       -9.05746687e-01, -6.37280468e-01, -7.65426078e-01, -5.97162759e-01,\n",
       "       -1.14551681e-01, -3.21370920e-01, -6.85845058e-01, -4.05668043e-01,\n",
       "       -9.77445532e-01, -3.33283433e-01, -1.87207854e-01, -3.02819702e-01,\n",
       "       -9.00800035e-01, -1.54561061e-01, -2.28712129e-01, -6.02745167e-01,\n",
       "       -9.02135323e-01, -9.88475177e-01, -5.59343835e-01, -6.14848677e-01,\n",
       "       -8.16875229e-01, -2.32159260e-01, -6.87011292e-01, -6.48655837e-01,\n",
       "       -9.59624926e-01, -5.02931514e-01, -7.75571936e-01, -9.55781579e-01,\n",
       "       -3.95335080e-01, -4.33378469e-02, -2.45189282e-01, -1.66417441e-01,\n",
       "       -6.21371249e-01, -1.41694165e-01, -7.29620586e-01, -9.90801905e-01,\n",
       "       -1.64337446e-01, -3.35073861e-01, -9.41602870e-01, -5.12054737e-01,\n",
       "       -3.08142527e-01, -6.72303590e-01, -2.75229419e-01, -9.24718755e-02,\n",
       "       -4.95011675e-01, -8.00192971e-01, -2.47271360e-01, -7.22594998e-01,\n",
       "       -2.83944227e-02, -6.02541746e-01, -4.90524454e-01, -9.85791327e-01,\n",
       "       -5.81053527e-01, -8.42880968e-01, -8.07127649e-01, -7.51587038e-01,\n",
       "       -4.83505037e-01, -2.56035717e-01, -9.61670779e-01, -6.18241091e-01,\n",
       "       -8.74839238e-01, -4.13707160e-01, -7.14988343e-01, -6.19252803e-01,\n",
       "       -1.47326894e-01, -2.78281443e-01, -3.05134389e-01, -6.07146776e-01])"
      ]
     },
     "execution_count": 27,
     "metadata": {},
     "output_type": "execute_result"
    }
   ],
   "source": [
    "np.random.uniform(-1,0,1000)"
   ]
  },
  {
   "cell_type": "code",
   "execution_count": 28,
   "id": "28163bef-d7b8-4380-b65d-dd8833ae8259",
   "metadata": {},
   "outputs": [
    {
     "data": {
      "text/plain": [
       "(array([106., 113., 110.,  91.,  92.,  93., 105., 108.,  76., 106.]),\n",
       " array([-9.97975657e-01, -8.98230296e-01, -7.98484936e-01, -6.98739575e-01,\n",
       "        -5.98994214e-01, -4.99248853e-01, -3.99503492e-01, -2.99758132e-01,\n",
       "        -2.00012771e-01, -1.00267410e-01, -5.22049173e-04]),\n",
       " <BarContainer object of 10 artists>)"
      ]
     },
     "execution_count": 28,
     "metadata": {},
     "output_type": "execute_result"
    },
    {
     "data": {
      "image/png": "[encoded data removed]",
      "text/plain": [
       "<Figure size 432x288 with 1 Axes>"
      ]
     },
     "metadata": {
      "needs_background": "light"
     },
     "output_type": "display_data"
    }
   ],
   "source": [
    "y = np.random.uniform(-1,0,1000)\n",
    "plt.hist(y)"
   ]
  },
  {
   "cell_type": "markdown",
   "id": "76f2d4d0-ab81-4bb0-9be0-55872b5bd9b8",
   "metadata": {
    "tags": []
   },
   "source": [
    "## Normal distribution"
   ]
  },
  {
   "cell_type": "code",
   "execution_count": 40,
   "id": "8ceb2b39-ffe7-4d0f-840a-fd8b8deeac54",
   "metadata": {
    "scrolled": true,
    "tags": []
   },
   "outputs": [],
   "source": [
    "# (10,100,10000) 1st number is centre, 2nd is spread (*3), 3rd of amount of\n",
    "# numbers returned\n",
    "z=np.random.normal(10,100,10000)"
   ]
  },
  {
   "cell_type": "code",
   "execution_count": 41,
   "id": "6c0fc4d1-64c8-4b82-90ea-a2fe65c505fc",
   "metadata": {},
   "outputs": [
    {
     "data": {
      "text/plain": [
       "(array([   3.,   52.,  343., 1220., 2428., 2953., 1965.,  797.,  207.,\n",
       "          32.]),\n",
       " array([-390.73542376, -315.54004743, -240.34467109, -165.14929475,\n",
       "         -89.95391842,  -14.75854208,   60.43683425,  135.63221059,\n",
       "         210.82758692,  286.02296326,  361.21833959]),\n",
       " <BarContainer object of 10 artists>)"
      ]
     },
     "execution_count": 41,
     "metadata": {},
     "output_type": "execute_result"
    },
    {
     "data": {
      "image/png": "[encoded data removed]",
      "text/plain": [
       "<Figure size 432x288 with 1 Axes>"
      ]
     },
     "metadata": {
      "needs_background": "light"
     },
     "output_type": "display_data"
    }
   ],
   "source": [
    "plt.hist(z)"
   ]
  },
  {
   "cell_type": "markdown",
   "id": "9ca85cc7-cc04-42e0-8bdb-ea8212a462f6",
   "metadata": {},
   "source": [
    "## Random generator"
   ]
  },
  {
   "cell_type": "code",
   "execution_count": null,
   "id": "cd63b629-2e4c-4e10-a1ba-d39221e267d5",
   "metadata": {},
   "outputs": [],
   "source": []
  }
 ],
 "metadata": {
  "kernelspec": {
   "display_name": "Python 3",
   "language": "python",
   "name": "python3"
  },
  "language_info": {
   "codemirror_mode": {
    "name": "ipython",
    "version": 3
   },
   "file_extension": ".py",
   "mimetype": "text/x-python",
   "name": "python",
   "nbconvert_exporter": "python",
   "pygments_lexer": "ipython3",
   "version": "3.8.8"
  }
 },
 "nbformat": 4,
 "nbformat_minor": 5
}
