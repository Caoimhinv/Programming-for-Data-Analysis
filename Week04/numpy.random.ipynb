{
 "cells": [
  {
   "cell_type": "markdown",
   "id": "6623e8f0-7eff-44bc-859d-cea9221cc5b3",
   "metadata": {
    "tags": []
   },
   "source": [
    "# The numpy.random package "
   ]
  },
  {
   "cell_type": "code",
   "execution_count": null,
   "id": "aa287c31-1bff-48a0-8212-4bd2ffaa9a34",
   "metadata": {},
   "outputs": [],
   "source": []
  }
 ],
 "metadata": {
  "kernelspec": {
   "display_name": "Python 3",
   "language": "python",
   "name": "python3"
  },
  "language_info": {
   "codemirror_mode": {
    "name": "ipython",
    "version": 3
   },
   "file_extension": ".py",
   "mimetype": "text/x-python",
   "name": "python",
   "nbconvert_exporter": "python",
   "pygments_lexer": "ipython3",
   "version": "3.8.8"
  }
 },
 "nbformat": 4,
 "nbformat_minor": 5
}
